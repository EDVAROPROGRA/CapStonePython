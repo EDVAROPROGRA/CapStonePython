{
  "cells": [
    {
      "cell_type": "markdown",
      "metadata": {
        "id": "K1_7OPdrFYi4"
      },
      "source": [
        "# Imbalanced classification: credit card fraud detection\n",
        "\n",
        "**Author:** [fchollet](https://twitter.com/fchollet)<br>\n",
        "**Date created:** 2019/05/28<br>\n",
        "**Last modified:** 2020/04/17<br>\n",
        "**Description:** Demonstration of how to handle highly imbalanced classification problems."
      ]
    },
    {
      "cell_type": "markdown",
      "metadata": {
        "id": "k4Dukx55FYi5"
      },
      "source": [
        "## Introduction\n",
        "\n",
        "This example looks at the\n",
        "[Kaggle Credit Card Fraud Detection](https://www.kaggle.com/mlg-ulb/creditcardfraud/)\n",
        "dataset to demonstrate how\n",
        "to train a classification model on data with highly imbalanced classes."
      ]
    },
    {
      "cell_type": "markdown",
      "metadata": {
        "id": "akCmRA9GFYi5"
      },
      "source": [
        "## First, vectorize the CSV data"
      ]
    },
    {
      "cell_type": "code",
      "execution_count": 4,
      "metadata": {
        "id": "6hborZwhFYi5",
        "outputId": "3feebe69-4d41-4317-e205-936331c7d4cc",
        "colab": {
          "base_uri": "https://localhost:8080/"
        }
      },
      "outputs": [
        {
          "output_type": "stream",
          "name": "stdout",
          "text": [
            "HEADER: \"Time\",\"V1\",\"V2\",\"V3\",\"V4\",\"V5\",\"V6\",\"V7\",\"V8\",\"V9\",\"V10\",\"V11\",\"V12\",\"V13\",\"V14\",\"V15\",\"V16\",\"V17\",\"V18\",\"V19\",\"V20\",\"V21\",\"V22\",\"V23\",\"V24\",\"V25\",\"V26\",\"V27\",\"V28\",\"Amount\",\"Class\"\n",
            "EXAMPLE FEATURES: [0.0, -1.3598071336738, -0.0727811733098497, 2.53634673796914, 1.37815522427443, -0.338320769942518, 0.462387777762292, 0.239598554061257, 0.0986979012610507, 0.363786969611213, 0.0907941719789316, -0.551599533260813, -0.617800855762348, -0.991389847235408, -0.311169353699879, 1.46817697209427, -0.470400525259478, 0.207971241929242, 0.0257905801985591, 0.403992960255733, 0.251412098239705, -0.018306777944153, 0.277837575558899, -0.110473910188767, 0.0669280749146731, 0.128539358273528, -0.189114843888824, 0.133558376740387, -0.0210530534538215, 149.62]\n",
            "features.shape: (284807, 30)\n",
            "targets.shape: (284807, 1)\n"
          ]
        }
      ],
      "source": [
        "import csv\n",
        "import numpy as np\n",
        "\n",
        "# Get the real data from https://www.kaggle.com/mlg-ulb/creditcardfraud/\n",
        "fname = \"creditcard.csv\"\n",
        "\n",
        "all_features = []\n",
        "all_targets = []\n",
        "with open(fname) as f:\n",
        "    for i, line in enumerate(f):\n",
        "        if i == 0:\n",
        "            print(\"HEADER:\", line.strip())\n",
        "            continue  # Skip header\n",
        "        fields = line.strip().split(\",\")\n",
        "        all_features.append([float(v.replace('\"', \"\")) for v in fields[:-1]])\n",
        "        all_targets.append([int(fields[-1].replace('\"', \"\"))])\n",
        "        if i == 1:\n",
        "            print(\"EXAMPLE FEATURES:\", all_features[-1])\n",
        "\n",
        "features = np.array(all_features, dtype=\"float32\")\n",
        "targets = np.array(all_targets, dtype=\"uint8\")\n",
        "print(\"features.shape:\", features.shape)\n",
        "print(\"targets.shape:\", targets.shape)"
      ]
    },
    {
      "cell_type": "markdown",
      "metadata": {
        "id": "tNDbMR0zFYi6"
      },
      "source": [
        "## Prepare a validation set"
      ]
    },
    {
      "cell_type": "code",
      "execution_count": 5,
      "metadata": {
        "id": "0Qf2imTuFYi6",
        "outputId": "7a48288e-ea2c-4c8b-8928-4d8b21935710",
        "colab": {
          "base_uri": "https://localhost:8080/"
        }
      },
      "outputs": [
        {
          "output_type": "stream",
          "name": "stdout",
          "text": [
            "Number of training samples: 227846\n",
            "Number of validation samples: 56961\n"
          ]
        }
      ],
      "source": [
        "num_val_samples = int(len(features) * 0.2)\n",
        "train_features = features[:-num_val_samples]\n",
        "train_targets = targets[:-num_val_samples]\n",
        "val_features = features[-num_val_samples:]\n",
        "val_targets = targets[-num_val_samples:]\n",
        "\n",
        "print(\"Number of training samples:\", len(train_features))\n",
        "print(\"Number of validation samples:\", len(val_features))"
      ]
    },
    {
      "cell_type": "markdown",
      "metadata": {
        "id": "UcXgNmbXFYi6"
      },
      "source": [
        "## Analyze class imbalance in the targets"
      ]
    },
    {
      "cell_type": "code",
      "execution_count": 6,
      "metadata": {
        "id": "KY_Bsl4eFYi7",
        "outputId": "5089dd72-62fa-4f89-825a-f2dddac2b461",
        "colab": {
          "base_uri": "https://localhost:8080/"
        }
      },
      "outputs": [
        {
          "output_type": "stream",
          "name": "stdout",
          "text": [
            "Number of positive samples in training data: 417 (0.18% of total)\n"
          ]
        }
      ],
      "source": [
        "counts = np.bincount(train_targets[:, 0])\n",
        "print(\n",
        "    \"Number of positive samples in training data: {} ({:.2f}% of total)\".format(\n",
        "        counts[1], 100 * float(counts[1]) / len(train_targets)\n",
        "    )\n",
        ")\n",
        "\n",
        "weight_for_0 = 1.0 / counts[0]\n",
        "weight_for_1 = 1.0 / counts[1]"
      ]
    },
    {
      "cell_type": "markdown",
      "metadata": {
        "id": "i5duFk-gFYi7"
      },
      "source": [
        "## Normalize the data using training set statistics"
      ]
    },
    {
      "cell_type": "code",
      "execution_count": 7,
      "metadata": {
        "id": "69HwzLAqFYi7"
      },
      "outputs": [],
      "source": [
        "mean = np.mean(train_features, axis=0)\n",
        "train_features -= mean\n",
        "val_features -= mean\n",
        "std = np.std(train_features, axis=0)\n",
        "train_features /= std\n",
        "val_features /= std"
      ]
    },
    {
      "cell_type": "markdown",
      "metadata": {
        "id": "8JboKwHJFYi7"
      },
      "source": [
        "## Build a binary classification model"
      ]
    },
    {
      "cell_type": "code",
      "execution_count": 8,
      "metadata": {
        "id": "9LRnQgv0FYi7",
        "outputId": "b25287e1-0787-41ef-b823-d0b237f96a61",
        "colab": {
          "base_uri": "https://localhost:8080/",
          "height": 328
        }
      },
      "outputs": [
        {
          "output_type": "display_data",
          "data": {
            "text/plain": [
              "\u001b[1mModel: \"sequential\"\u001b[0m\n"
            ],
            "text/html": [
              "<pre style=\"white-space:pre;overflow-x:auto;line-height:normal;font-family:Menlo,'DejaVu Sans Mono',consolas,'Courier New',monospace\"><span style=\"font-weight: bold\">Model: \"sequential\"</span>\n",
              "</pre>\n"
            ]
          },
          "metadata": {}
        },
        {
          "output_type": "display_data",
          "data": {
            "text/plain": [
              "┏━━━━━━━━━━━━━━━━━━━━━━━━━━━━━━━━━┳━━━━━━━━━━━━━━━━━━━━━━━━┳━━━━━━━━━━━━━━━┓\n",
              "┃\u001b[1m \u001b[0m\u001b[1mLayer (type)                   \u001b[0m\u001b[1m \u001b[0m┃\u001b[1m \u001b[0m\u001b[1mOutput Shape          \u001b[0m\u001b[1m \u001b[0m┃\u001b[1m \u001b[0m\u001b[1m      Param #\u001b[0m\u001b[1m \u001b[0m┃\n",
              "┡━━━━━━━━━━━━━━━━━━━━━━━━━━━━━━━━━╇━━━━━━━━━━━━━━━━━━━━━━━━╇━━━━━━━━━━━━━━━┩\n",
              "│ dense (\u001b[38;5;33mDense\u001b[0m)                   │ (\u001b[38;5;45mNone\u001b[0m, \u001b[38;5;34m256\u001b[0m)            │         \u001b[38;5;34m7,936\u001b[0m │\n",
              "├─────────────────────────────────┼────────────────────────┼───────────────┤\n",
              "│ dense_1 (\u001b[38;5;33mDense\u001b[0m)                 │ (\u001b[38;5;45mNone\u001b[0m, \u001b[38;5;34m256\u001b[0m)            │        \u001b[38;5;34m65,792\u001b[0m │\n",
              "├─────────────────────────────────┼────────────────────────┼───────────────┤\n",
              "│ dropout (\u001b[38;5;33mDropout\u001b[0m)               │ (\u001b[38;5;45mNone\u001b[0m, \u001b[38;5;34m256\u001b[0m)            │             \u001b[38;5;34m0\u001b[0m │\n",
              "├─────────────────────────────────┼────────────────────────┼───────────────┤\n",
              "│ dense_2 (\u001b[38;5;33mDense\u001b[0m)                 │ (\u001b[38;5;45mNone\u001b[0m, \u001b[38;5;34m256\u001b[0m)            │        \u001b[38;5;34m65,792\u001b[0m │\n",
              "├─────────────────────────────────┼────────────────────────┼───────────────┤\n",
              "│ dropout_1 (\u001b[38;5;33mDropout\u001b[0m)             │ (\u001b[38;5;45mNone\u001b[0m, \u001b[38;5;34m256\u001b[0m)            │             \u001b[38;5;34m0\u001b[0m │\n",
              "├─────────────────────────────────┼────────────────────────┼───────────────┤\n",
              "│ dense_3 (\u001b[38;5;33mDense\u001b[0m)                 │ (\u001b[38;5;45mNone\u001b[0m, \u001b[38;5;34m1\u001b[0m)              │           \u001b[38;5;34m257\u001b[0m │\n",
              "└─────────────────────────────────┴────────────────────────┴───────────────┘\n"
            ],
            "text/html": [
              "<pre style=\"white-space:pre;overflow-x:auto;line-height:normal;font-family:Menlo,'DejaVu Sans Mono',consolas,'Courier New',monospace\">┏━━━━━━━━━━━━━━━━━━━━━━━━━━━━━━━━━┳━━━━━━━━━━━━━━━━━━━━━━━━┳━━━━━━━━━━━━━━━┓\n",
              "┃<span style=\"font-weight: bold\"> Layer (type)                    </span>┃<span style=\"font-weight: bold\"> Output Shape           </span>┃<span style=\"font-weight: bold\">       Param # </span>┃\n",
              "┡━━━━━━━━━━━━━━━━━━━━━━━━━━━━━━━━━╇━━━━━━━━━━━━━━━━━━━━━━━━╇━━━━━━━━━━━━━━━┩\n",
              "│ dense (<span style=\"color: #0087ff; text-decoration-color: #0087ff\">Dense</span>)                   │ (<span style=\"color: #00d7ff; text-decoration-color: #00d7ff\">None</span>, <span style=\"color: #00af00; text-decoration-color: #00af00\">256</span>)            │         <span style=\"color: #00af00; text-decoration-color: #00af00\">7,936</span> │\n",
              "├─────────────────────────────────┼────────────────────────┼───────────────┤\n",
              "│ dense_1 (<span style=\"color: #0087ff; text-decoration-color: #0087ff\">Dense</span>)                 │ (<span style=\"color: #00d7ff; text-decoration-color: #00d7ff\">None</span>, <span style=\"color: #00af00; text-decoration-color: #00af00\">256</span>)            │        <span style=\"color: #00af00; text-decoration-color: #00af00\">65,792</span> │\n",
              "├─────────────────────────────────┼────────────────────────┼───────────────┤\n",
              "│ dropout (<span style=\"color: #0087ff; text-decoration-color: #0087ff\">Dropout</span>)               │ (<span style=\"color: #00d7ff; text-decoration-color: #00d7ff\">None</span>, <span style=\"color: #00af00; text-decoration-color: #00af00\">256</span>)            │             <span style=\"color: #00af00; text-decoration-color: #00af00\">0</span> │\n",
              "├─────────────────────────────────┼────────────────────────┼───────────────┤\n",
              "│ dense_2 (<span style=\"color: #0087ff; text-decoration-color: #0087ff\">Dense</span>)                 │ (<span style=\"color: #00d7ff; text-decoration-color: #00d7ff\">None</span>, <span style=\"color: #00af00; text-decoration-color: #00af00\">256</span>)            │        <span style=\"color: #00af00; text-decoration-color: #00af00\">65,792</span> │\n",
              "├─────────────────────────────────┼────────────────────────┼───────────────┤\n",
              "│ dropout_1 (<span style=\"color: #0087ff; text-decoration-color: #0087ff\">Dropout</span>)             │ (<span style=\"color: #00d7ff; text-decoration-color: #00d7ff\">None</span>, <span style=\"color: #00af00; text-decoration-color: #00af00\">256</span>)            │             <span style=\"color: #00af00; text-decoration-color: #00af00\">0</span> │\n",
              "├─────────────────────────────────┼────────────────────────┼───────────────┤\n",
              "│ dense_3 (<span style=\"color: #0087ff; text-decoration-color: #0087ff\">Dense</span>)                 │ (<span style=\"color: #00d7ff; text-decoration-color: #00d7ff\">None</span>, <span style=\"color: #00af00; text-decoration-color: #00af00\">1</span>)              │           <span style=\"color: #00af00; text-decoration-color: #00af00\">257</span> │\n",
              "└─────────────────────────────────┴────────────────────────┴───────────────┘\n",
              "</pre>\n"
            ]
          },
          "metadata": {}
        },
        {
          "output_type": "display_data",
          "data": {
            "text/plain": [
              "\u001b[1m Total params: \u001b[0m\u001b[38;5;34m139,777\u001b[0m (546.00 KB)\n"
            ],
            "text/html": [
              "<pre style=\"white-space:pre;overflow-x:auto;line-height:normal;font-family:Menlo,'DejaVu Sans Mono',consolas,'Courier New',monospace\"><span style=\"font-weight: bold\"> Total params: </span><span style=\"color: #00af00; text-decoration-color: #00af00\">139,777</span> (546.00 KB)\n",
              "</pre>\n"
            ]
          },
          "metadata": {}
        },
        {
          "output_type": "display_data",
          "data": {
            "text/plain": [
              "\u001b[1m Trainable params: \u001b[0m\u001b[38;5;34m139,777\u001b[0m (546.00 KB)\n"
            ],
            "text/html": [
              "<pre style=\"white-space:pre;overflow-x:auto;line-height:normal;font-family:Menlo,'DejaVu Sans Mono',consolas,'Courier New',monospace\"><span style=\"font-weight: bold\"> Trainable params: </span><span style=\"color: #00af00; text-decoration-color: #00af00\">139,777</span> (546.00 KB)\n",
              "</pre>\n"
            ]
          },
          "metadata": {}
        },
        {
          "output_type": "display_data",
          "data": {
            "text/plain": [
              "\u001b[1m Non-trainable params: \u001b[0m\u001b[38;5;34m0\u001b[0m (0.00 B)\n"
            ],
            "text/html": [
              "<pre style=\"white-space:pre;overflow-x:auto;line-height:normal;font-family:Menlo,'DejaVu Sans Mono',consolas,'Courier New',monospace\"><span style=\"font-weight: bold\"> Non-trainable params: </span><span style=\"color: #00af00; text-decoration-color: #00af00\">0</span> (0.00 B)\n",
              "</pre>\n"
            ]
          },
          "metadata": {}
        }
      ],
      "source": [
        "import keras\n",
        "\n",
        "model = keras.Sequential(\n",
        "    [\n",
        "        keras.Input(shape=train_features.shape[1:]),\n",
        "        keras.layers.Dense(256, activation=\"relu\"),\n",
        "        keras.layers.Dense(256, activation=\"relu\"),\n",
        "        keras.layers.Dropout(0.3),\n",
        "        keras.layers.Dense(256, activation=\"relu\"),\n",
        "        keras.layers.Dropout(0.3),\n",
        "        keras.layers.Dense(1, activation=\"sigmoid\"),\n",
        "    ]\n",
        ")\n",
        "model.summary()"
      ]
    },
    {
      "cell_type": "markdown",
      "metadata": {
        "id": "3qGasyMSFYi7"
      },
      "source": [
        "## Train the model with `class_weight` argument"
      ]
    },
    {
      "cell_type": "code",
      "execution_count": 9,
      "metadata": {
        "id": "2tHwapDNFYi8",
        "outputId": "37a531f1-d6d0-41cc-a617-cd64dd52a1cd",
        "colab": {
          "base_uri": "https://localhost:8080/"
        }
      },
      "outputs": [
        {
          "output_type": "stream",
          "name": "stdout",
          "text": [
            "Epoch 1/30\n",
            "112/112 - 9s - 84ms/step - fn: 45.0000 - fp: 27121.0000 - loss: 2.2953e-06 - precision: 0.0135 - recall: 0.8921 - tn: 200308.0000 - tp: 372.0000 - val_fn: 6.0000 - val_fp: 1506.0000 - val_loss: 0.1069 - val_precision: 0.0438 - val_recall: 0.9200 - val_tn: 55380.0000 - val_tp: 69.0000\n",
            "Epoch 2/30\n",
            "112/112 - 1s - 5ms/step - fn: 28.0000 - fp: 7234.0000 - loss: 1.2981e-06 - precision: 0.0510 - recall: 0.9329 - tn: 220195.0000 - tp: 389.0000 - val_fn: 13.0000 - val_fp: 250.0000 - val_loss: 0.0552 - val_precision: 0.1987 - val_recall: 0.8267 - val_tn: 56636.0000 - val_tp: 62.0000\n",
            "Epoch 3/30\n",
            "112/112 - 1s - 6ms/step - fn: 33.0000 - fp: 7132.0000 - loss: 1.3264e-06 - precision: 0.0511 - recall: 0.9209 - tn: 220297.0000 - tp: 384.0000 - val_fn: 8.0000 - val_fp: 1072.0000 - val_loss: 0.0835 - val_precision: 0.0588 - val_recall: 0.8933 - val_tn: 55814.0000 - val_tp: 67.0000\n",
            "Epoch 4/30\n",
            "112/112 - 1s - 6ms/step - fn: 24.0000 - fp: 6310.0000 - loss: 1.1537e-06 - precision: 0.0586 - recall: 0.9424 - tn: 221119.0000 - tp: 393.0000 - val_fn: 7.0000 - val_fp: 810.0000 - val_loss: 0.0783 - val_precision: 0.0774 - val_recall: 0.9067 - val_tn: 56076.0000 - val_tp: 68.0000\n",
            "Epoch 5/30\n",
            "112/112 - 1s - 13ms/step - fn: 22.0000 - fp: 5376.0000 - loss: 9.6772e-07 - precision: 0.0684 - recall: 0.9472 - tn: 222053.0000 - tp: 395.0000 - val_fn: 9.0000 - val_fp: 525.0000 - val_loss: 0.0428 - val_precision: 0.1117 - val_recall: 0.8800 - val_tn: 56361.0000 - val_tp: 66.0000\n",
            "Epoch 6/30\n",
            "112/112 - 1s - 5ms/step - fn: 19.0000 - fp: 7533.0000 - loss: 8.8214e-07 - precision: 0.0502 - recall: 0.9544 - tn: 219896.0000 - tp: 398.0000 - val_fn: 10.0000 - val_fp: 163.0000 - val_loss: 0.0107 - val_precision: 0.2851 - val_recall: 0.8667 - val_tn: 56723.0000 - val_tp: 65.0000\n",
            "Epoch 7/30\n",
            "112/112 - 1s - 5ms/step - fn: 14.0000 - fp: 6882.0000 - loss: 8.0598e-07 - precision: 0.0553 - recall: 0.9664 - tn: 220547.0000 - tp: 403.0000 - val_fn: 8.0000 - val_fp: 975.0000 - val_loss: 0.0573 - val_precision: 0.0643 - val_recall: 0.8933 - val_tn: 55911.0000 - val_tp: 67.0000\n",
            "Epoch 8/30\n",
            "112/112 - 1s - 5ms/step - fn: 14.0000 - fp: 6256.0000 - loss: 7.3626e-07 - precision: 0.0605 - recall: 0.9664 - tn: 221173.0000 - tp: 403.0000 - val_fn: 7.0000 - val_fp: 3325.0000 - val_loss: 0.1436 - val_precision: 0.0200 - val_recall: 0.9067 - val_tn: 53561.0000 - val_tp: 68.0000\n",
            "Epoch 9/30\n",
            "112/112 - 1s - 5ms/step - fn: 11.0000 - fp: 6223.0000 - loss: 5.7386e-07 - precision: 0.0612 - recall: 0.9736 - tn: 221206.0000 - tp: 406.0000 - val_fn: 11.0000 - val_fp: 307.0000 - val_loss: 0.0230 - val_precision: 0.1725 - val_recall: 0.8533 - val_tn: 56579.0000 - val_tp: 64.0000\n",
            "Epoch 10/30\n",
            "112/112 - 1s - 5ms/step - fn: 10.0000 - fp: 4743.0000 - loss: 5.2242e-07 - precision: 0.0790 - recall: 0.9760 - tn: 222686.0000 - tp: 407.0000 - val_fn: 7.0000 - val_fp: 842.0000 - val_loss: 0.0648 - val_precision: 0.0747 - val_recall: 0.9067 - val_tn: 56044.0000 - val_tp: 68.0000\n",
            "Epoch 11/30\n",
            "112/112 - 1s - 6ms/step - fn: 11.0000 - fp: 6243.0000 - loss: 6.3088e-07 - precision: 0.0611 - recall: 0.9736 - tn: 221186.0000 - tp: 406.0000 - val_fn: 8.0000 - val_fp: 534.0000 - val_loss: 0.0272 - val_precision: 0.1115 - val_recall: 0.8933 - val_tn: 56352.0000 - val_tp: 67.0000\n",
            "Epoch 12/30\n",
            "112/112 - 1s - 12ms/step - fn: 7.0000 - fp: 5111.0000 - loss: 4.9294e-07 - precision: 0.0743 - recall: 0.9832 - tn: 222318.0000 - tp: 410.0000 - val_fn: 9.0000 - val_fp: 428.0000 - val_loss: 0.0248 - val_precision: 0.1336 - val_recall: 0.8800 - val_tn: 56458.0000 - val_tp: 66.0000\n",
            "Epoch 13/30\n",
            "112/112 - 1s - 5ms/step - fn: 10.0000 - fp: 7267.0000 - loss: 6.0311e-07 - precision: 0.0530 - recall: 0.9760 - tn: 220162.0000 - tp: 407.0000 - val_fn: 7.0000 - val_fp: 1900.0000 - val_loss: 0.0744 - val_precision: 0.0346 - val_recall: 0.9067 - val_tn: 54986.0000 - val_tp: 68.0000\n",
            "Epoch 14/30\n",
            "112/112 - 1s - 5ms/step - fn: 7.0000 - fp: 6273.0000 - loss: 5.5364e-07 - precision: 0.0613 - recall: 0.9832 - tn: 221156.0000 - tp: 410.0000 - val_fn: 9.0000 - val_fp: 467.0000 - val_loss: 0.0214 - val_precision: 0.1238 - val_recall: 0.8800 - val_tn: 56419.0000 - val_tp: 66.0000\n",
            "Epoch 15/30\n",
            "112/112 - 1s - 5ms/step - fn: 5.0000 - fp: 4158.0000 - loss: 3.8335e-07 - precision: 0.0902 - recall: 0.9880 - tn: 223271.0000 - tp: 412.0000 - val_fn: 7.0000 - val_fp: 1338.0000 - val_loss: 0.0577 - val_precision: 0.0484 - val_recall: 0.9067 - val_tn: 55548.0000 - val_tp: 68.0000\n",
            "Epoch 16/30\n",
            "112/112 - 1s - 5ms/step - fn: 7.0000 - fp: 5105.0000 - loss: 4.2887e-07 - precision: 0.0743 - recall: 0.9832 - tn: 222324.0000 - tp: 410.0000 - val_fn: 5.0000 - val_fp: 2224.0000 - val_loss: 0.0990 - val_precision: 0.0305 - val_recall: 0.9333 - val_tn: 54662.0000 - val_tp: 70.0000\n",
            "Epoch 17/30\n",
            "112/112 - 1s - 5ms/step - fn: 9.0000 - fp: 6373.0000 - loss: 4.9256e-07 - precision: 0.0602 - recall: 0.9784 - tn: 221056.0000 - tp: 408.0000 - val_fn: 9.0000 - val_fp: 1011.0000 - val_loss: 0.0364 - val_precision: 0.0613 - val_recall: 0.8800 - val_tn: 55875.0000 - val_tp: 66.0000\n",
            "Epoch 18/30\n",
            "112/112 - 1s - 5ms/step - fn: 7.0000 - fp: 4819.0000 - loss: 3.9060e-07 - precision: 0.0784 - recall: 0.9832 - tn: 222610.0000 - tp: 410.0000 - val_fn: 9.0000 - val_fp: 444.0000 - val_loss: 0.0200 - val_precision: 0.1294 - val_recall: 0.8800 - val_tn: 56442.0000 - val_tp: 66.0000\n",
            "Epoch 19/30\n",
            "112/112 - 1s - 5ms/step - fn: 3.0000 - fp: 4220.0000 - loss: 3.5740e-07 - precision: 0.0893 - recall: 0.9928 - tn: 223209.0000 - tp: 414.0000 - val_fn: 12.0000 - val_fp: 273.0000 - val_loss: 0.0159 - val_precision: 0.1875 - val_recall: 0.8400 - val_tn: 56613.0000 - val_tp: 63.0000\n",
            "Epoch 20/30\n",
            "112/112 - 1s - 5ms/step - fn: 3.0000 - fp: 3788.0000 - loss: 2.9134e-07 - precision: 0.0985 - recall: 0.9928 - tn: 223641.0000 - tp: 414.0000 - val_fn: 10.0000 - val_fp: 286.0000 - val_loss: 0.0134 - val_precision: 0.1852 - val_recall: 0.8667 - val_tn: 56600.0000 - val_tp: 65.0000\n",
            "Epoch 21/30\n",
            "112/112 - 1s - 5ms/step - fn: 10.0000 - fp: 6625.0000 - loss: 9.3231e-07 - precision: 0.0579 - recall: 0.9760 - tn: 220804.0000 - tp: 407.0000 - val_fn: 5.0000 - val_fp: 2139.0000 - val_loss: 0.3140 - val_precision: 0.0317 - val_recall: 0.9333 - val_tn: 54747.0000 - val_tp: 70.0000\n",
            "Epoch 22/30\n",
            "112/112 - 1s - 5ms/step - fn: 22.0000 - fp: 9525.0000 - loss: 1.5631e-06 - precision: 0.0398 - recall: 0.9472 - tn: 217904.0000 - tp: 395.0000 - val_fn: 8.0000 - val_fp: 2051.0000 - val_loss: 0.0794 - val_precision: 0.0316 - val_recall: 0.8933 - val_tn: 54835.0000 - val_tp: 67.0000\n",
            "Epoch 23/30\n",
            "112/112 - 1s - 5ms/step - fn: 7.0000 - fp: 6991.0000 - loss: 7.4396e-07 - precision: 0.0554 - recall: 0.9832 - tn: 220438.0000 - tp: 410.0000 - val_fn: 10.0000 - val_fp: 326.0000 - val_loss: 0.0191 - val_precision: 0.1662 - val_recall: 0.8667 - val_tn: 56560.0000 - val_tp: 65.0000\n",
            "Epoch 24/30\n",
            "112/112 - 1s - 5ms/step - fn: 8.0000 - fp: 6710.0000 - loss: 6.3047e-07 - precision: 0.0575 - recall: 0.9808 - tn: 220719.0000 - tp: 409.0000 - val_fn: 9.0000 - val_fp: 700.0000 - val_loss: 0.0367 - val_precision: 0.0862 - val_recall: 0.8800 - val_tn: 56186.0000 - val_tp: 66.0000\n",
            "Epoch 25/30\n",
            "112/112 - 1s - 5ms/step - fn: 7.0000 - fp: 4336.0000 - loss: 4.6490e-07 - precision: 0.0864 - recall: 0.9832 - tn: 223093.0000 - tp: 410.0000 - val_fn: 10.0000 - val_fp: 536.0000 - val_loss: 0.0271 - val_precision: 0.1082 - val_recall: 0.8667 - val_tn: 56350.0000 - val_tp: 65.0000\n",
            "Epoch 26/30\n",
            "112/112 - 1s - 5ms/step - fn: 6.0000 - fp: 4608.0000 - loss: 4.2917e-07 - precision: 0.0819 - recall: 0.9856 - tn: 222821.0000 - tp: 411.0000 - val_fn: 7.0000 - val_fp: 734.0000 - val_loss: 0.0316 - val_precision: 0.0848 - val_recall: 0.9067 - val_tn: 56152.0000 - val_tp: 68.0000\n",
            "Epoch 27/30\n",
            "112/112 - 1s - 5ms/step - fn: 3.0000 - fp: 3086.0000 - loss: 2.8382e-07 - precision: 0.1183 - recall: 0.9928 - tn: 224343.0000 - tp: 414.0000 - val_fn: 7.0000 - val_fp: 875.0000 - val_loss: 0.0485 - val_precision: 0.0721 - val_recall: 0.9067 - val_tn: 56011.0000 - val_tp: 68.0000\n",
            "Epoch 28/30\n",
            "112/112 - 1s - 5ms/step - fn: 1.0000 - fp: 2725.0000 - loss: 2.4428e-07 - precision: 0.1324 - recall: 0.9976 - tn: 224704.0000 - tp: 416.0000 - val_fn: 10.0000 - val_fp: 258.0000 - val_loss: 0.0128 - val_precision: 0.2012 - val_recall: 0.8667 - val_tn: 56628.0000 - val_tp: 65.0000\n",
            "Epoch 29/30\n",
            "112/112 - 1s - 5ms/step - fn: 0.0000e+00 - fp: 1853.0000 - loss: 1.9127e-07 - precision: 0.1837 - recall: 1.0000 - tn: 225576.0000 - tp: 417.0000 - val_fn: 10.0000 - val_fp: 298.0000 - val_loss: 0.0204 - val_precision: 0.1791 - val_recall: 0.8667 - val_tn: 56588.0000 - val_tp: 65.0000\n",
            "Epoch 30/30\n",
            "112/112 - 1s - 6ms/step - fn: 7.0000 - fp: 4481.0000 - loss: 4.3878e-07 - precision: 0.0838 - recall: 0.9832 - tn: 222948.0000 - tp: 410.0000 - val_fn: 11.0000 - val_fp: 1217.0000 - val_loss: 0.2426 - val_precision: 0.0500 - val_recall: 0.8533 - val_tn: 55669.0000 - val_tp: 64.0000\n"
          ]
        },
        {
          "output_type": "execute_result",
          "data": {
            "text/plain": [
              "<keras.src.callbacks.history.History at 0x7cbd5c55e8a0>"
            ]
          },
          "metadata": {},
          "execution_count": 9
        }
      ],
      "source": [
        "metrics = [\n",
        "    keras.metrics.FalseNegatives(name=\"fn\"),\n",
        "    keras.metrics.FalsePositives(name=\"fp\"),\n",
        "    keras.metrics.TrueNegatives(name=\"tn\"),\n",
        "    keras.metrics.TruePositives(name=\"tp\"),\n",
        "    keras.metrics.Precision(name=\"precision\"),\n",
        "    keras.metrics.Recall(name=\"recall\"),\n",
        "]\n",
        "\n",
        "model.compile(\n",
        "    optimizer=keras.optimizers.Adam(1e-2), loss=\"binary_crossentropy\", metrics=metrics\n",
        ")\n",
        "\n",
        "callbacks = [keras.callbacks.ModelCheckpoint(\"fraud_model_at_epoch_{epoch}.keras\")]\n",
        "class_weight = {0: weight_for_0, 1: weight_for_1}\n",
        "\n",
        "model.fit(\n",
        "    train_features,\n",
        "    train_targets,\n",
        "    batch_size=2048,\n",
        "    epochs=30,\n",
        "    verbose=2,\n",
        "    callbacks=callbacks,\n",
        "    validation_data=(val_features, val_targets),\n",
        "    class_weight=class_weight,\n",
        ")"
      ]
    },
    {
      "cell_type": "markdown",
      "metadata": {
        "id": "5I02RKKPFYi8"
      },
      "source": [
        "## Conclusions\n",
        "\n",
        "At the end of training, out of 56,961 validation transactions, we are:\n",
        "\n",
        "- Correctly identifying 66 of them as fraudulent\n",
        "- Missing 9 fraudulent transactions\n",
        "- At the cost of incorrectly flagging 441 legitimate transactions\n",
        "\n",
        "In the real world, one would put an even higher weight on class 1,\n",
        "so as to reflect that False Negatives are more costly than False Positives.\n",
        "\n",
        "Next time your credit card gets  declined in an online purchase -- this is why.\n",
        "\n"
      ]
    }
  ],
  "metadata": {
    "accelerator": "GPU",
    "colab": {
      "name": "imbalanced_classification",
      "provenance": []
    },
    "kernelspec": {
      "display_name": "Python 3",
      "language": "python",
      "name": "python3"
    },
    "language_info": {
      "codemirror_mode": {
        "name": "ipython",
        "version": 3
      },
      "file_extension": ".py",
      "mimetype": "text/x-python",
      "name": "python",
      "nbconvert_exporter": "python",
      "pygments_lexer": "ipython3",
      "version": "3.7.0"
    }
  },
  "nbformat": 4,
  "nbformat_minor": 0
}